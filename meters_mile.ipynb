{
  "nbformat": 4,
  "nbformat_minor": 0,
  "metadata": {
    "colab": {
      "name": "Untitled38.ipynb",
      "provenance": [],
      "collapsed_sections": [],
      "authorship_tag": "ABX9TyOaicO599Rdw3QQbe6jNoAH",
      "include_colab_link": true
    },
    "kernelspec": {
      "name": "python3",
      "display_name": "Python 3"
    },
    "language_info": {
      "name": "python"
    },
    "accelerator": "GPU"
  },
  "cells": [
    {
      "cell_type": "markdown",
      "metadata": {
        "id": "view-in-github",
        "colab_type": "text"
      },
      "source": [
        "<a href=\"https://colab.research.google.com/github/elpinchepastel/ML_DP/blob/main/meters_mile.ipynb\" target=\"_parent\"><img src=\"https://colab.research.google.com/assets/colab-badge.svg\" alt=\"Open In Colab\"/></a>"
      ]
    },
    {
      "cell_type": "code",
      "metadata": {
        "id": "MY1-AEqI6evp"
      },
      "source": [
        "# Import libraries necessary\n",
        "import tensorflow as tf\n",
        "import numpy as np\n",
        "from google.colab import drive\n",
        "import pandas as pd\n",
        "import matplotlib.pyplot as plt"
      ],
      "execution_count": 1,
      "outputs": []
    },
    {
      "cell_type": "code",
      "metadata": {
        "id": "drPkuz6T7vUx"
      },
      "source": [
        "# Millas = Metros / 1609,344"
      ],
      "execution_count": 2,
      "outputs": []
    },
    {
      "cell_type": "code",
      "metadata": {
        "colab": {
          "base_uri": "https://localhost:8080/"
        },
        "id": "tnqYFaEe8-zn",
        "outputId": "a026f03c-6af8-4a86-c64f-3fbac356b663"
      },
      "source": [
        "# Let's import to connect Colab with the information in Drive\n",
        "drive.mount('/content/drive')"
      ],
      "execution_count": 3,
      "outputs": [
        {
          "output_type": "stream",
          "text": [
            "Drive already mounted at /content/drive; to attempt to forcibly remount, call drive.mount(\"/content/drive\", force_remount=True).\n"
          ],
          "name": "stdout"
        }
      ]
    },
    {
      "cell_type": "code",
      "metadata": {
        "colab": {
          "base_uri": "https://localhost:8080/"
        },
        "id": "W7XWin009mnE",
        "outputId": "6021d631-60a0-4a47-ec8d-311114f52353"
      },
      "source": [
        "# We navigate to the folder with the content\n",
        "%cd '/content/drive/My Drive/Dataset'"
      ],
      "execution_count": 4,
      "outputs": [
        {
          "output_type": "stream",
          "text": [
            "/content/drive/My Drive/Dataset\n"
          ],
          "name": "stdout"
        }
      ]
    },
    {
      "cell_type": "code",
      "metadata": {
        "colab": {
          "base_uri": "https://localhost:8080/"
        },
        "id": "zRqgFnAl9zgh",
        "outputId": "2aca4288-1945-40f1-f2cc-e3112d4dc1e9"
      },
      "source": [
        "!ls"
      ],
      "execution_count": 5,
      "outputs": [
        {
          "output_type": "stream",
          "text": [
            "df_hist.png  medida.csv  mtcars.csv  orangeec.csv\n"
          ],
          "name": "stdout"
        }
      ]
    },
    {
      "cell_type": "code",
      "metadata": {
        "id": "AMWgFlHm91GB"
      },
      "source": [
        "# We create a string with the name of the file \n",
        "ruta_archivo = '/content/drive/My Drive/Dataset/{}'.format('medida.csv')"
      ],
      "execution_count": 6,
      "outputs": []
    },
    {
      "cell_type": "code",
      "metadata": {
        "id": "fu4X2EHPA9iX"
      },
      "source": [
        "df = pd.read_csv(ruta_archivo)"
      ],
      "execution_count": 7,
      "outputs": []
    },
    {
      "cell_type": "code",
      "metadata": {
        "colab": {
          "base_uri": "https://localhost:8080/",
          "height": 436
        },
        "id": "r2D6VDLtDVhW",
        "outputId": "f2bbb0c0-8677-4765-df67-8e8d75f5012d"
      },
      "source": [
        "# Size DataFrame and info\n",
        "print(df.shape)\n",
        "df"
      ],
      "execution_count": 8,
      "outputs": [
        {
          "output_type": "stream",
          "text": [
            "(1000, 2)\n"
          ],
          "name": "stdout"
        },
        {
          "output_type": "execute_result",
          "data": {
            "text/html": [
              "<div>\n",
              "<style scoped>\n",
              "    .dataframe tbody tr th:only-of-type {\n",
              "        vertical-align: middle;\n",
              "    }\n",
              "\n",
              "    .dataframe tbody tr th {\n",
              "        vertical-align: top;\n",
              "    }\n",
              "\n",
              "    .dataframe thead th {\n",
              "        text-align: right;\n",
              "    }\n",
              "</style>\n",
              "<table border=\"1\" class=\"dataframe\">\n",
              "  <thead>\n",
              "    <tr style=\"text-align: right;\">\n",
              "      <th></th>\n",
              "      <th>metro</th>\n",
              "      <th>milla</th>\n",
              "    </tr>\n",
              "  </thead>\n",
              "  <tbody>\n",
              "    <tr>\n",
              "      <th>0</th>\n",
              "      <td>113</td>\n",
              "      <td>0.070215</td>\n",
              "    </tr>\n",
              "    <tr>\n",
              "      <th>1</th>\n",
              "      <td>167</td>\n",
              "      <td>0.103769</td>\n",
              "    </tr>\n",
              "    <tr>\n",
              "      <th>2</th>\n",
              "      <td>554</td>\n",
              "      <td>0.344240</td>\n",
              "    </tr>\n",
              "    <tr>\n",
              "      <th>3</th>\n",
              "      <td>483</td>\n",
              "      <td>0.300122</td>\n",
              "    </tr>\n",
              "    <tr>\n",
              "      <th>4</th>\n",
              "      <td>989</td>\n",
              "      <td>0.614536</td>\n",
              "    </tr>\n",
              "    <tr>\n",
              "      <th>...</th>\n",
              "      <td>...</td>\n",
              "      <td>...</td>\n",
              "    </tr>\n",
              "    <tr>\n",
              "      <th>995</th>\n",
              "      <td>949</td>\n",
              "      <td>0.589681</td>\n",
              "    </tr>\n",
              "    <tr>\n",
              "      <th>996</th>\n",
              "      <td>464</td>\n",
              "      <td>0.288316</td>\n",
              "    </tr>\n",
              "    <tr>\n",
              "      <th>997</th>\n",
              "      <td>476</td>\n",
              "      <td>0.295773</td>\n",
              "    </tr>\n",
              "    <tr>\n",
              "      <th>998</th>\n",
              "      <td>183</td>\n",
              "      <td>0.113711</td>\n",
              "    </tr>\n",
              "    <tr>\n",
              "      <th>999</th>\n",
              "      <td>473</td>\n",
              "      <td>0.293909</td>\n",
              "    </tr>\n",
              "  </tbody>\n",
              "</table>\n",
              "<p>1000 rows × 2 columns</p>\n",
              "</div>"
            ],
            "text/plain": [
              "     metro     milla\n",
              "0      113  0.070215\n",
              "1      167  0.103769\n",
              "2      554  0.344240\n",
              "3      483  0.300122\n",
              "4      989  0.614536\n",
              "..     ...       ...\n",
              "995    949  0.589681\n",
              "996    464  0.288316\n",
              "997    476  0.295773\n",
              "998    183  0.113711\n",
              "999    473  0.293909\n",
              "\n",
              "[1000 rows x 2 columns]"
            ]
          },
          "metadata": {
            "tags": []
          },
          "execution_count": 8
        }
      ]
    },
    {
      "cell_type": "code",
      "metadata": {
        "id": "6Wbgz-qcE7Ys"
      },
      "source": [
        "# Create np array of dataframe\n",
        "metro = df['metro'].to_numpy(np.int)\n",
        "milla = df['milla'].to_numpy(np.float64)"
      ],
      "execution_count": 9,
      "outputs": []
    },
    {
      "cell_type": "code",
      "metadata": {
        "id": "8r7UUXLqFkIW"
      },
      "source": [
        "# Create network neural\n",
        "oculta_1 = tf.keras.layers.Dense(units=3, input_shape=[1])\n",
        "oculta_2 = tf.keras.layers.Dense(units=3)\n",
        "salida = tf.keras.layers.Dense(units=1)\n",
        "modelo = tf.keras.Sequential([oculta_1, oculta_2, salida])"
      ],
      "execution_count": 10,
      "outputs": []
    },
    {
      "cell_type": "code",
      "metadata": {
        "id": "4u8WFUeVFx_W"
      },
      "source": [
        "# Create model\n",
        "modelo.compile(\n",
        "    optimizer=tf.optimizers.Adam(0.1),\n",
        "    loss='mean_squared_error'\n",
        ")"
      ],
      "execution_count": 11,
      "outputs": []
    },
    {
      "cell_type": "code",
      "metadata": {
        "colab": {
          "base_uri": "https://localhost:8080/"
        },
        "id": "bJWKOCseHeCX",
        "outputId": "0494d4ac-e0f1-48b5-f0b9-ab71ea43bd77"
      },
      "source": [
        "# Training model\n",
        "print(\"Stared training...\")\n",
        "historial = modelo.fit(metro, milla, steps_per_epoch=50, epochs=50, verbose=False)\n",
        "print(\"Model train...\")"
      ],
      "execution_count": 12,
      "outputs": [
        {
          "output_type": "stream",
          "text": [
            "Stared training...\n",
            "Model train...\n"
          ],
          "name": "stdout"
        }
      ]
    },
    {
      "cell_type": "code",
      "metadata": {
        "colab": {
          "base_uri": "https://localhost:8080/",
          "height": 296
        },
        "id": "QXlpbhvXHyjm",
        "outputId": "dffb9c85-dd30-4326-9a4b-3f53cd1df408"
      },
      "source": [
        "# Print loss magnitude loss\n",
        "plt.xlabel('# Epoch')\n",
        "plt.ylabel('Loss Magnitude')\n",
        "plt.plot(historial.history['loss'])"
      ],
      "execution_count": 13,
      "outputs": [
        {
          "output_type": "execute_result",
          "data": {
            "text/plain": [
              "[<matplotlib.lines.Line2D at 0x7f57c00b94d0>]"
            ]
          },
          "metadata": {
            "tags": []
          },
          "execution_count": 13
        },
        {
          "output_type": "display_data",
          "data": {
            "image/png": "[encoded data removed]",
            "text/plain": [
              "<Figure size 432x288 with 1 Axes>"
            ]
          },
          "metadata": {
            "tags": [],
            "needs_background": "light"
          }
        }
      ]
    },
    {
      "cell_type": "code",
      "metadata": {
        "colab": {
          "base_uri": "https://localhost:8080/"
        },
        "id": "nLfnF45MISZs",
        "outputId": "e141d845-3edd-4661-8c37-4fc020ba7de2"
      },
      "source": [
        "print(\"Let's make a prediction\")\n",
        "result = modelo.predict([1])\n",
        "print('The result is {} miles'.format(str(result)))"
      ],
      "execution_count": 14,
      "outputs": [
        {
          "output_type": "stream",
          "text": [
            "Let's make a prediction\n",
            "The result is [[0.00062179]] miles\n"
          ],
          "name": "stdout"
        }
      ]
    },
    {
      "cell_type": "code",
      "metadata": {
        "colab": {
          "base_uri": "https://localhost:8080/"
        },
        "id": "-1YaelTLIzWN",
        "outputId": "21bd4390-6709-433f-faf1-09e9b44c658f"
      },
      "source": [
        "print(\"Internal variables of the model\")\n",
        "print(oculta_1.get_weights())\n",
        "print(oculta_2.get_weights())\n",
        "print(salida.get_weights())"
      ],
      "execution_count": 15,
      "outputs": [
        {
          "output_type": "stream",
          "text": [
            "Internal variables of the model\n",
            "[array([[-0.07248545, -0.13078135,  0.04712742]], dtype=float32), array([-0.2767958 ,  0.00865413, -0.18319595], dtype=float32)]\n",
            "[array([[ 0.05880975,  0.10146596,  0.41341746],\n",
            "       [ 0.44433302,  0.07590399, -0.17944656],\n",
            "       [-0.10741504, -0.30915916,  0.07012136]], dtype=float32), array([-0.17284574,  0.06277271, -0.14984204], dtype=float32)]\n",
            "[array([[-0.04127512],\n",
            "       [ 0.0619389 ],\n",
            "       [ 0.05923621]], dtype=float32), array([0.00397557], dtype=float32)]\n"
          ],
          "name": "stdout"
        }
      ]
    }
  ]
}