{
  "nbformat": 4,
  "nbformat_minor": 0,
  "metadata": {
    "colab": {
      "name": "Untitled38.ipynb",
      "provenance": [],
      "collapsed_sections": [],
      "authorship_tag": "ABX9TyOaicO599Rdw3QQbe6jNoAH",
      "include_colab_link": true
    },
    "kernelspec": {
      "name": "python3",
      "display_name": "Python 3"
    },
    "language_info": {
      "name": "python"
    },
    "accelerator": "GPU"
  },
  "cells": [
    {
      "cell_type": "markdown",
      "metadata": {
        "id": "view-in-github",
        "colab_type": "text"
      },
      "source": [
        "<a href=\"https://colab.research.google.com/github/elpinchepastel/ML_DP/blob/main/meters_mile.ipynb\" target=\"_parent\"><img src=\"https://colab.research.google.com/assets/colab-badge.svg\" alt=\"Open In Colab\"/></a>"
      ]
    },
    {
      "cell_type": "code",
      "metadata": {
        "id": "MY1-AEqI6evp"
      },
      "source": [
        "# Import libraries necessary\n",
        "import tensorflow as tf\n",
        "import numpy as np\n",
        "from google.colab import drive\n",
        "import pandas as pd\n",
        "import matplotlib.pyplot as plt"
      ],
      "execution_count": 1,
      "outputs": []
    },
    {
      "cell_type": "code",
      "metadata": {
        "id": "drPkuz6T7vUx"
      },
      "source": [
        "# Millas = Metros / 1609,344"
      ],
      "execution_count": 2,
      "outputs": []
    },
    {
      "cell_type": "code",
      "metadata": {
        "colab": {
          "base_uri": "https://localhost:8080/"
        },
        "id": "tnqYFaEe8-zn",
        "outputId": "59018a01-c5b8-4bfb-af4e-e3c215a39bbd"
      },
      "source": [
        "# Let's import to connect Colab with the information in Drive\n",
        "drive.mount('/content/drive')"
      ],
      "execution_count": 3,
      "outputs": [
        {
          "output_type": "stream",
          "text": [
            "Mounted at /content/drive\n"
          ],
          "name": "stdout"
        }
      ]
    },
    {
      "cell_type": "code",
      "metadata": {
        "colab": {
          "base_uri": "https://localhost:8080/"
        },
        "id": "W7XWin009mnE",
        "outputId": "a38bb858-dd22-46e4-ca07-68add7951e91"
      },
      "source": [
        "# We navigate to the folder with the content\n",
        "%cd '/content/drive/My Drive/Dataset'"
      ],
      "execution_count": 4,
      "outputs": [
        {
          "output_type": "stream",
          "text": [
            "/content/drive/My Drive/Dataset\n"
          ],
          "name": "stdout"
        }
      ]
    },
    {
      "cell_type": "code",
      "metadata": {
        "colab": {
          "base_uri": "https://localhost:8080/"
        },
        "id": "zRqgFnAl9zgh",
        "outputId": "97a95080-5a5a-453a-87e3-0196be94f2af"
      },
      "source": [
        "!ls"
      ],
      "execution_count": 5,
      "outputs": [
        {
          "output_type": "stream",
          "text": [
            "df_hist.png  medida.csv  mtcars.csv  orangeec.csv\n"
          ],
          "name": "stdout"
        }
      ]
    },
    {
      "cell_type": "code",
      "metadata": {
        "id": "AMWgFlHm91GB"
      },
      "source": [
        "# We create a string with the name of the file \n",
        "ruta_archivo = '/content/drive/My Drive/Dataset/{}'.format('medida.csv')"
      ],
      "execution_count": 6,
      "outputs": []
    },
    {
      "cell_type": "code",
      "metadata": {
        "id": "fu4X2EHPA9iX"
      },
      "source": [
        "df = pd.read_csv(ruta_archivo)"
      ],
      "execution_count": 7,
      "outputs": []
    },
    {
      "cell_type": "code",
      "metadata": {
        "colab": {
          "base_uri": "https://localhost:8080/",
          "height": 436
        },
        "id": "r2D6VDLtDVhW",
        "outputId": "c32cadc1-3d9c-4a79-89ee-41e94e2d7935"
      },
      "source": [
        "# Size DataFrame and info\n",
        "print(df.shape)\n",
        "df"
      ],
      "execution_count": 8,
      "outputs": [
        {
          "output_type": "stream",
          "text": [
            "(1048575, 2)\n"
          ],
          "name": "stdout"
        },
        {
          "output_type": "execute_result",
          "data": {
            "text/html": [
              "<div>\n",
              "<style scoped>\n",
              "    .dataframe tbody tr th:only-of-type {\n",
              "        vertical-align: middle;\n",
              "    }\n",
              "\n",
              "    .dataframe tbody tr th {\n",
              "        vertical-align: top;\n",
              "    }\n",
              "\n",
              "    .dataframe thead th {\n",
              "        text-align: right;\n",
              "    }\n",
              "</style>\n",
              "<table border=\"1\" class=\"dataframe\">\n",
              "  <thead>\n",
              "    <tr style=\"text-align: right;\">\n",
              "      <th></th>\n",
              "      <th>metro</th>\n",
              "      <th>milla</th>\n",
              "    </tr>\n",
              "  </thead>\n",
              "  <tbody>\n",
              "    <tr>\n",
              "      <th>0</th>\n",
              "      <td>550</td>\n",
              "      <td>0.341755</td>\n",
              "    </tr>\n",
              "    <tr>\n",
              "      <th>1</th>\n",
              "      <td>992</td>\n",
              "      <td>0.616402</td>\n",
              "    </tr>\n",
              "    <tr>\n",
              "      <th>2</th>\n",
              "      <td>664</td>\n",
              "      <td>0.412591</td>\n",
              "    </tr>\n",
              "    <tr>\n",
              "      <th>3</th>\n",
              "      <td>313</td>\n",
              "      <td>0.194490</td>\n",
              "    </tr>\n",
              "    <tr>\n",
              "      <th>4</th>\n",
              "      <td>570</td>\n",
              "      <td>0.354182</td>\n",
              "    </tr>\n",
              "    <tr>\n",
              "      <th>...</th>\n",
              "      <td>...</td>\n",
              "      <td>...</td>\n",
              "    </tr>\n",
              "    <tr>\n",
              "      <th>1048570</th>\n",
              "      <td>335</td>\n",
              "      <td>0.208160</td>\n",
              "    </tr>\n",
              "    <tr>\n",
              "      <th>1048571</th>\n",
              "      <td>939</td>\n",
              "      <td>0.583469</td>\n",
              "    </tr>\n",
              "    <tr>\n",
              "      <th>1048572</th>\n",
              "      <td>762</td>\n",
              "      <td>0.473486</td>\n",
              "    </tr>\n",
              "    <tr>\n",
              "      <th>1048573</th>\n",
              "      <td>968</td>\n",
              "      <td>0.601489</td>\n",
              "    </tr>\n",
              "    <tr>\n",
              "      <th>1048574</th>\n",
              "      <td>460</td>\n",
              "      <td>0.285831</td>\n",
              "    </tr>\n",
              "  </tbody>\n",
              "</table>\n",
              "<p>1048575 rows × 2 columns</p>\n",
              "</div>"
            ],
            "text/plain": [
              "         metro     milla\n",
              "0          550  0.341755\n",
              "1          992  0.616402\n",
              "2          664  0.412591\n",
              "3          313  0.194490\n",
              "4          570  0.354182\n",
              "...        ...       ...\n",
              "1048570    335  0.208160\n",
              "1048571    939  0.583469\n",
              "1048572    762  0.473486\n",
              "1048573    968  0.601489\n",
              "1048574    460  0.285831\n",
              "\n",
              "[1048575 rows x 2 columns]"
            ]
          },
          "metadata": {},
          "execution_count": 8
        }
      ]
    },
    {
      "cell_type": "code",
      "metadata": {
        "id": "6Wbgz-qcE7Ys"
      },
      "source": [
        "# Create np array of dataframe\n",
        "metro = df['metro'].to_numpy(np.int)\n",
        "milla = df['milla'].to_numpy(np.float64)"
      ],
      "execution_count": 9,
      "outputs": []
    },
    {
      "cell_type": "code",
      "metadata": {
        "id": "8r7UUXLqFkIW"
      },
      "source": [
        "# Create network neural\n",
        "oculta_1 = tf.keras.layers.Dense(units=3, input_shape=[1])\n",
        "oculta_2 = tf.keras.layers.Dense(units=3)\n",
        "salida = tf.keras.layers.Dense(units=1)\n",
        "modelo = tf.keras.Sequential([oculta_1, oculta_2, salida])"
      ],
      "execution_count": 10,
      "outputs": []
    },
    {
      "cell_type": "code",
      "metadata": {
        "id": "4u8WFUeVFx_W"
      },
      "source": [
        "# Create model\n",
        "modelo.compile(\n",
        "    optimizer=tf.optimizers.Adam(0.1),\n",
        "    loss='mean_squared_error'\n",
        ")"
      ],
      "execution_count": 11,
      "outputs": []
    },
    {
      "cell_type": "code",
      "metadata": {
        "colab": {
          "base_uri": "https://localhost:8080/"
        },
        "id": "bJWKOCseHeCX",
        "outputId": "db83afaa-70c7-493d-ee8f-a564b5c10dc9"
      },
      "source": [
        "# Training model\n",
        "print(\"Stared training...\")\n",
        "historial = modelo.fit(metro, milla, steps_per_epoch=50, epochs=50, verbose=False)\n",
        "print(\"Model train...\")"
      ],
      "execution_count": 12,
      "outputs": [
        {
          "output_type": "stream",
          "text": [
            "Stared training...\n",
            "Model train...\n"
          ],
          "name": "stdout"
        }
      ]
    },
    {
      "cell_type": "code",
      "metadata": {
        "colab": {
          "base_uri": "https://localhost:8080/",
          "height": 296
        },
        "id": "QXlpbhvXHyjm",
        "outputId": "31e70237-762e-4c13-a7cc-36af11468937"
      },
      "source": [
        "# Print loss magnitude loss\n",
        "plt.xlabel('# Epoch')\n",
        "plt.ylabel('Loss Magnitude')\n",
        "plt.plot(historial.history['loss'])"
      ],
      "execution_count": 13,
      "outputs": [
        {
          "output_type": "execute_result",
          "data": {
            "text/plain": [
              "[<matplotlib.lines.Line2D at 0x7ff8a4080690>]"
            ]
          },
          "metadata": {},
          "execution_count": 13
        },
        {
          "output_type": "display_data",
          "data": {
            "image/png": "[encoded data removed]",
            "text/plain": [
              "<Figure size 432x288 with 1 Axes>"
            ]
          },
          "metadata": {
            "needs_background": "light"
          }
        }
      ]
    },
    {
      "cell_type": "code",
      "metadata": {
        "colab": {
          "base_uri": "https://localhost:8080/"
        },
        "id": "nLfnF45MISZs",
        "outputId": "4baa4d7d-ac84-47ef-e1a6-b25bfe69f6ec"
      },
      "source": [
        "print(\"Let's make a prediction\")\n",
        "result = modelo.predict([1])\n",
        "print('The result is {} miles'.format(str(result)))"
      ],
      "execution_count": 14,
      "outputs": [
        {
          "output_type": "stream",
          "text": [
            "Let's make a prediction\n",
            "The result is [[0.0006206]] miles\n"
          ],
          "name": "stdout"
        }
      ]
    },
    {
      "cell_type": "code",
      "metadata": {
        "colab": {
          "base_uri": "https://localhost:8080/"
        },
        "id": "-1YaelTLIzWN",
        "outputId": "ed4d92ce-4860-4696-e4ef-7dded5565b84"
      },
      "source": [
        "print(\"Internal variables of the model\")\n",
        "print(oculta_1.get_weights())\n",
        "print(oculta_2.get_weights())\n",
        "print(salida.get_weights())"
      ],
      "execution_count": 15,
      "outputs": [
        {
          "output_type": "stream",
          "text": [
            "Internal variables of the model\n",
            "[array([[ 0.00702076,  0.27302098, -0.06598429]], dtype=float32), array([ 0.25916442, -0.60370755,  0.36249706], dtype=float32)]\n",
            "[array([[-0.23944081, -0.8014094 ,  0.1557707 ],\n",
            "       [ 0.46157235,  0.2480005 , -0.05602044],\n",
            "       [ 1.0811361 ,  0.5300122 ,  0.3438012 ]], dtype=float32), array([-0.4349664 ,  0.48313597,  0.37956914], dtype=float32)]\n",
            "[array([[-0.04270007],\n",
            "       [ 0.22759685],\n",
            "       [ 0.08907733]], dtype=float32), array([-0.14024979], dtype=float32)]\n"
          ],
          "name": "stdout"
        }
      ]
    }
  ]
}